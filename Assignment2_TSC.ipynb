{
  "nbformat": 4,
  "nbformat_minor": 0,
  "metadata": {
    "colab": {
      "provenance": [],
      "collapsed_sections": []
    },
    "kernelspec": {
      "name": "python3",
      "display_name": "Python 3"
    },
    "language_info": {
      "name": "python"
    }
  },
  "cells": [
    {
      "cell_type": "code",
      "execution_count": 1,
      "metadata": {
        "id": "myvOvwosnj6T"
      },
      "outputs": [],
      "source": [
        "import numpy as np\n",
        "import pandas as pd\n",
        "import matplotlib.pyplot as plt"
      ]
    },
    {
      "cell_type": "code",
      "source": [
        "data = pd.read_csv(\"/content/drive/MyDrive/Colab Notebooks/Assignment2/AirQuality_Data.csv\")"
      ],
      "metadata": {
        "id": "G9LFwul8tp9k"
      },
      "execution_count": 2,
      "outputs": []
    },
    {
      "cell_type": "code",
      "source": [
        "data.head()"
      ],
      "metadata": {
        "colab": {
          "base_uri": "https://localhost:8080/",
          "height": 206
        },
        "id": "sOlbBFcS2xjO",
        "outputId": "8dffe3c3-9a8e-4cdd-9d63-03df9f3c3e4d"
      },
      "execution_count": 3,
      "outputs": [
        {
          "output_type": "execute_result",
          "data": {
            "text/plain": [
              "   No  year  month  day  hour  PM2.5  PM10  SO2   NO2     CO    O3  TEMP  \\\n",
              "0   1  2013      3    1     0    9.0   9.0  3.0  17.0  300.0  89.0  -0.5   \n",
              "1   2  2013      3    1     1    4.0   4.0  3.0  16.0  300.0  88.0  -0.7   \n",
              "2   3  2013      3    1     2    7.0   7.0  NaN  17.0  300.0  60.0  -1.2   \n",
              "3   4  2013      3    1     3    3.0   3.0  5.0  18.0    NaN   NaN  -1.4   \n",
              "4   5  2013      3    1     4    3.0   3.0  7.0   NaN  200.0  84.0  -1.9   \n",
              "\n",
              "     PRES  DEWP  RAIN   wd  WSPM station  \n",
              "0  1024.5 -21.4   0.0  NNW   5.7  Dongsi  \n",
              "1  1025.1 -22.1   0.0   NW   3.9  Dongsi  \n",
              "2  1025.3 -24.6   0.0  NNW   5.3  Dongsi  \n",
              "3  1026.2 -25.5   0.0    N   4.9  Dongsi  \n",
              "4  1027.1 -24.5   0.0  NNW   3.2  Dongsi  "
            ],
            "text/html": [
              "\n",
              "  <div id=\"df-6ca5f874-b2dd-400c-abc7-578d8224b1db\">\n",
              "    <div class=\"colab-df-container\">\n",
              "      <div>\n",
              "<style scoped>\n",
              "    .dataframe tbody tr th:only-of-type {\n",
              "        vertical-align: middle;\n",
              "    }\n",
              "\n",
              "    .dataframe tbody tr th {\n",
              "        vertical-align: top;\n",
              "    }\n",
              "\n",
              "    .dataframe thead th {\n",
              "        text-align: right;\n",
              "    }\n",
              "</style>\n",
              "<table border=\"1\" class=\"dataframe\">\n",
              "  <thead>\n",
              "    <tr style=\"text-align: right;\">\n",
              "      <th></th>\n",
              "      <th>No</th>\n",
              "      <th>year</th>\n",
              "      <th>month</th>\n",
              "      <th>day</th>\n",
              "      <th>hour</th>\n",
              "      <th>PM2.5</th>\n",
              "      <th>PM10</th>\n",
              "      <th>SO2</th>\n",
              "      <th>NO2</th>\n",
              "      <th>CO</th>\n",
              "      <th>O3</th>\n",
              "      <th>TEMP</th>\n",
              "      <th>PRES</th>\n",
              "      <th>DEWP</th>\n",
              "      <th>RAIN</th>\n",
              "      <th>wd</th>\n",
              "      <th>WSPM</th>\n",
              "      <th>station</th>\n",
              "    </tr>\n",
              "  </thead>\n",
              "  <tbody>\n",
              "    <tr>\n",
              "      <th>0</th>\n",
              "      <td>1</td>\n",
              "      <td>2013</td>\n",
              "      <td>3</td>\n",
              "      <td>1</td>\n",
              "      <td>0</td>\n",
              "      <td>9.0</td>\n",
              "      <td>9.0</td>\n",
              "      <td>3.0</td>\n",
              "      <td>17.0</td>\n",
              "      <td>300.0</td>\n",
              "      <td>89.0</td>\n",
              "      <td>-0.5</td>\n",
              "      <td>1024.5</td>\n",
              "      <td>-21.4</td>\n",
              "      <td>0.0</td>\n",
              "      <td>NNW</td>\n",
              "      <td>5.7</td>\n",
              "      <td>Dongsi</td>\n",
              "    </tr>\n",
              "    <tr>\n",
              "      <th>1</th>\n",
              "      <td>2</td>\n",
              "      <td>2013</td>\n",
              "      <td>3</td>\n",
              "      <td>1</td>\n",
              "      <td>1</td>\n",
              "      <td>4.0</td>\n",
              "      <td>4.0</td>\n",
              "      <td>3.0</td>\n",
              "      <td>16.0</td>\n",
              "      <td>300.0</td>\n",
              "      <td>88.0</td>\n",
              "      <td>-0.7</td>\n",
              "      <td>1025.1</td>\n",
              "      <td>-22.1</td>\n",
              "      <td>0.0</td>\n",
              "      <td>NW</td>\n",
              "      <td>3.9</td>\n",
              "      <td>Dongsi</td>\n",
              "    </tr>\n",
              "    <tr>\n",
              "      <th>2</th>\n",
              "      <td>3</td>\n",
              "      <td>2013</td>\n",
              "      <td>3</td>\n",
              "      <td>1</td>\n",
              "      <td>2</td>\n",
              "      <td>7.0</td>\n",
              "      <td>7.0</td>\n",
              "      <td>NaN</td>\n",
              "      <td>17.0</td>\n",
              "      <td>300.0</td>\n",
              "      <td>60.0</td>\n",
              "      <td>-1.2</td>\n",
              "      <td>1025.3</td>\n",
              "      <td>-24.6</td>\n",
              "      <td>0.0</td>\n",
              "      <td>NNW</td>\n",
              "      <td>5.3</td>\n",
              "      <td>Dongsi</td>\n",
              "    </tr>\n",
              "    <tr>\n",
              "      <th>3</th>\n",
              "      <td>4</td>\n",
              "      <td>2013</td>\n",
              "      <td>3</td>\n",
              "      <td>1</td>\n",
              "      <td>3</td>\n",
              "      <td>3.0</td>\n",
              "      <td>3.0</td>\n",
              "      <td>5.0</td>\n",
              "      <td>18.0</td>\n",
              "      <td>NaN</td>\n",
              "      <td>NaN</td>\n",
              "      <td>-1.4</td>\n",
              "      <td>1026.2</td>\n",
              "      <td>-25.5</td>\n",
              "      <td>0.0</td>\n",
              "      <td>N</td>\n",
              "      <td>4.9</td>\n",
              "      <td>Dongsi</td>\n",
              "    </tr>\n",
              "    <tr>\n",
              "      <th>4</th>\n",
              "      <td>5</td>\n",
              "      <td>2013</td>\n",
              "      <td>3</td>\n",
              "      <td>1</td>\n",
              "      <td>4</td>\n",
              "      <td>3.0</td>\n",
              "      <td>3.0</td>\n",
              "      <td>7.0</td>\n",
              "      <td>NaN</td>\n",
              "      <td>200.0</td>\n",
              "      <td>84.0</td>\n",
              "      <td>-1.9</td>\n",
              "      <td>1027.1</td>\n",
              "      <td>-24.5</td>\n",
              "      <td>0.0</td>\n",
              "      <td>NNW</td>\n",
              "      <td>3.2</td>\n",
              "      <td>Dongsi</td>\n",
              "    </tr>\n",
              "  </tbody>\n",
              "</table>\n",
              "</div>\n",
              "      <button class=\"colab-df-convert\" onclick=\"convertToInteractive('df-6ca5f874-b2dd-400c-abc7-578d8224b1db')\"\n",
              "              title=\"Convert this dataframe to an interactive table.\"\n",
              "              style=\"display:none;\">\n",
              "        \n",
              "  <svg xmlns=\"http://www.w3.org/2000/svg\" height=\"24px\"viewBox=\"0 0 24 24\"\n",
              "       width=\"24px\">\n",
              "    <path d=\"M0 0h24v24H0V0z\" fill=\"none\"/>\n",
              "    <path d=\"M18.56 5.44l.94 2.06.94-2.06 2.06-.94-2.06-.94-.94-2.06-.94 2.06-2.06.94zm-11 1L8.5 8.5l.94-2.06 2.06-.94-2.06-.94L8.5 2.5l-.94 2.06-2.06.94zm10 10l.94 2.06.94-2.06 2.06-.94-2.06-.94-.94-2.06-.94 2.06-2.06.94z\"/><path d=\"M17.41 7.96l-1.37-1.37c-.4-.4-.92-.59-1.43-.59-.52 0-1.04.2-1.43.59L10.3 9.45l-7.72 7.72c-.78.78-.78 2.05 0 2.83L4 21.41c.39.39.9.59 1.41.59.51 0 1.02-.2 1.41-.59l7.78-7.78 2.81-2.81c.8-.78.8-2.07 0-2.86zM5.41 20L4 18.59l7.72-7.72 1.47 1.35L5.41 20z\"/>\n",
              "  </svg>\n",
              "      </button>\n",
              "      \n",
              "  <style>\n",
              "    .colab-df-container {\n",
              "      display:flex;\n",
              "      flex-wrap:wrap;\n",
              "      gap: 12px;\n",
              "    }\n",
              "\n",
              "    .colab-df-convert {\n",
              "      background-color: #E8F0FE;\n",
              "      border: none;\n",
              "      border-radius: 50%;\n",
              "      cursor: pointer;\n",
              "      display: none;\n",
              "      fill: #1967D2;\n",
              "      height: 32px;\n",
              "      padding: 0 0 0 0;\n",
              "      width: 32px;\n",
              "    }\n",
              "\n",
              "    .colab-df-convert:hover {\n",
              "      background-color: #E2EBFA;\n",
              "      box-shadow: 0px 1px 2px rgba(60, 64, 67, 0.3), 0px 1px 3px 1px rgba(60, 64, 67, 0.15);\n",
              "      fill: #174EA6;\n",
              "    }\n",
              "\n",
              "    [theme=dark] .colab-df-convert {\n",
              "      background-color: #3B4455;\n",
              "      fill: #D2E3FC;\n",
              "    }\n",
              "\n",
              "    [theme=dark] .colab-df-convert:hover {\n",
              "      background-color: #434B5C;\n",
              "      box-shadow: 0px 1px 3px 1px rgba(0, 0, 0, 0.15);\n",
              "      filter: drop-shadow(0px 1px 2px rgba(0, 0, 0, 0.3));\n",
              "      fill: #FFFFFF;\n",
              "    }\n",
              "  </style>\n",
              "\n",
              "      <script>\n",
              "        const buttonEl =\n",
              "          document.querySelector('#df-6ca5f874-b2dd-400c-abc7-578d8224b1db button.colab-df-convert');\n",
              "        buttonEl.style.display =\n",
              "          google.colab.kernel.accessAllowed ? 'block' : 'none';\n",
              "\n",
              "        async function convertToInteractive(key) {\n",
              "          const element = document.querySelector('#df-6ca5f874-b2dd-400c-abc7-578d8224b1db');\n",
              "          const dataTable =\n",
              "            await google.colab.kernel.invokeFunction('convertToInteractive',\n",
              "                                                     [key], {});\n",
              "          if (!dataTable) return;\n",
              "\n",
              "          const docLinkHtml = 'Like what you see? Visit the ' +\n",
              "            '<a target=\"_blank\" href=https://colab.research.google.com/notebooks/data_table.ipynb>data table notebook</a>'\n",
              "            + ' to learn more about interactive tables.';\n",
              "          element.innerHTML = '';\n",
              "          dataTable['output_type'] = 'display_data';\n",
              "          await google.colab.output.renderOutput(dataTable, element);\n",
              "          const docLink = document.createElement('div');\n",
              "          docLink.innerHTML = docLinkHtml;\n",
              "          element.appendChild(docLink);\n",
              "        }\n",
              "      </script>\n",
              "    </div>\n",
              "  </div>\n",
              "  "
            ]
          },
          "metadata": {},
          "execution_count": 3
        }
      ]
    },
    {
      "cell_type": "code",
      "source": [
        "data.info()"
      ],
      "metadata": {
        "colab": {
          "base_uri": "https://localhost:8080/"
        },
        "id": "uDzf4c6e5Yg7",
        "outputId": "51b1aab5-10ec-430d-9461-9042e33f14db"
      },
      "execution_count": 4,
      "outputs": [
        {
          "output_type": "stream",
          "name": "stdout",
          "text": [
            "<class 'pandas.core.frame.DataFrame'>\n",
            "RangeIndex: 35064 entries, 0 to 35063\n",
            "Data columns (total 18 columns):\n",
            " #   Column   Non-Null Count  Dtype  \n",
            "---  ------   --------------  -----  \n",
            " 0   No       35064 non-null  int64  \n",
            " 1   year     35064 non-null  int64  \n",
            " 2   month    35064 non-null  int64  \n",
            " 3   day      35064 non-null  int64  \n",
            " 4   hour     35064 non-null  int64  \n",
            " 5   PM2.5    34314 non-null  float64\n",
            " 6   PM10     34511 non-null  float64\n",
            " 7   SO2      34401 non-null  float64\n",
            " 8   NO2      33463 non-null  float64\n",
            " 9   CO       31867 non-null  float64\n",
            " 10  O3       34400 non-null  float64\n",
            " 11  TEMP     35044 non-null  float64\n",
            " 12  PRES     35044 non-null  float64\n",
            " 13  DEWP     35044 non-null  float64\n",
            " 14  RAIN     35044 non-null  float64\n",
            " 15  wd       34986 non-null  object \n",
            " 16  WSPM     35050 non-null  float64\n",
            " 17  station  35064 non-null  object \n",
            "dtypes: float64(11), int64(5), object(2)\n",
            "memory usage: 4.8+ MB\n"
          ]
        }
      ]
    },
    {
      "cell_type": "markdown",
      "source": [
        "Drop row number, dates, station, and wind direction."
      ],
      "metadata": {
        "id": "wfn4MyX-5bBj"
      }
    },
    {
      "cell_type": "code",
      "source": [
        "data = data.drop(['No', 'station', 'year', 'month', 'day', 'hour', 'wd'], axis=1)"
      ],
      "metadata": {
        "id": "Nr1bKXZa5z9C"
      },
      "execution_count": 5,
      "outputs": []
    },
    {
      "cell_type": "code",
      "source": [
        "data.info()"
      ],
      "metadata": {
        "colab": {
          "base_uri": "https://localhost:8080/"
        },
        "id": "LOCMNNfZ6JX8",
        "outputId": "e615975c-140d-455b-d464-6e6cd2777eba"
      },
      "execution_count": 6,
      "outputs": [
        {
          "output_type": "stream",
          "name": "stdout",
          "text": [
            "<class 'pandas.core.frame.DataFrame'>\n",
            "RangeIndex: 35064 entries, 0 to 35063\n",
            "Data columns (total 11 columns):\n",
            " #   Column  Non-Null Count  Dtype  \n",
            "---  ------  --------------  -----  \n",
            " 0   PM2.5   34314 non-null  float64\n",
            " 1   PM10    34511 non-null  float64\n",
            " 2   SO2     34401 non-null  float64\n",
            " 3   NO2     33463 non-null  float64\n",
            " 4   CO      31867 non-null  float64\n",
            " 5   O3      34400 non-null  float64\n",
            " 6   TEMP    35044 non-null  float64\n",
            " 7   PRES    35044 non-null  float64\n",
            " 8   DEWP    35044 non-null  float64\n",
            " 9   RAIN    35044 non-null  float64\n",
            " 10  WSPM    35050 non-null  float64\n",
            "dtypes: float64(11)\n",
            "memory usage: 2.9 MB\n"
          ]
        }
      ]
    },
    {
      "cell_type": "markdown",
      "source": [
        "Impute"
      ],
      "metadata": {
        "id": "37laSrlbBvxO"
      }
    },
    {
      "cell_type": "code",
      "source": [
        "data.isnull().sum()"
      ],
      "metadata": {
        "colab": {
          "base_uri": "https://localhost:8080/"
        },
        "id": "Q4LFdxf15amj",
        "outputId": "f186ce95-20bd-4bac-a217-d04008fe6281"
      },
      "execution_count": 7,
      "outputs": [
        {
          "output_type": "execute_result",
          "data": {
            "text/plain": [
              "PM2.5     750\n",
              "PM10      553\n",
              "SO2       663\n",
              "NO2      1601\n",
              "CO       3197\n",
              "O3        664\n",
              "TEMP       20\n",
              "PRES       20\n",
              "DEWP       20\n",
              "RAIN       20\n",
              "WSPM       14\n",
              "dtype: int64"
            ]
          },
          "metadata": {},
          "execution_count": 7
        }
      ]
    },
    {
      "cell_type": "code",
      "source": [
        "from sklearn.impute import SimpleImputer\n",
        "imputer = SimpleImputer()"
      ],
      "metadata": {
        "id": "Cq-v_9p7BxqG"
      },
      "execution_count": 8,
      "outputs": []
    },
    {
      "cell_type": "code",
      "source": [
        "data[\"PM2.5\"]=imputer.fit_transform(data[[\"PM2.5\"]])\n",
        "data[\"PM10\"]=imputer.fit_transform(data[[\"PM10\"]])\n",
        "data[\"SO2\"]=imputer.fit_transform(data[[\"SO2\"]])\n",
        "data[\"NO2\"]=imputer.fit_transform(data[[\"NO2\"]])\n",
        "data[\"CO\"]=imputer.fit_transform(data[[\"CO\"]])\n",
        "data[\"O3\"]=imputer.fit_transform(data[[\"O3\"]])\n",
        "data[\"TEMP\"]=imputer.fit_transform(data[[\"TEMP\"]])\n",
        "data[\"PRES\"]=imputer.fit_transform(data[[\"PRES\"]])\n",
        "data[\"DEWP\"]=imputer.fit_transform(data[[\"DEWP\"]])\n",
        "data[\"RAIN\"]=imputer.fit_transform(data[[\"RAIN\"]])\n",
        "data[\"WSPM\"]=imputer.fit_transform(data[[\"WSPM\"]])"
      ],
      "metadata": {
        "id": "aETC6HohVM2_"
      },
      "execution_count": 9,
      "outputs": []
    },
    {
      "cell_type": "code",
      "source": [
        "data.isnull().sum()"
      ],
      "metadata": {
        "colab": {
          "base_uri": "https://localhost:8080/"
        },
        "id": "lBgqEvzxvgQS",
        "outputId": "d7f9a0a0-9e9e-445d-a89a-32f0ed3106a9"
      },
      "execution_count": 10,
      "outputs": [
        {
          "output_type": "execute_result",
          "data": {
            "text/plain": [
              "PM2.5    0\n",
              "PM10     0\n",
              "SO2      0\n",
              "NO2      0\n",
              "CO       0\n",
              "O3       0\n",
              "TEMP     0\n",
              "PRES     0\n",
              "DEWP     0\n",
              "RAIN     0\n",
              "WSPM     0\n",
              "dtype: int64"
            ]
          },
          "metadata": {},
          "execution_count": 10
        }
      ]
    },
    {
      "cell_type": "markdown",
      "source": [
        "Split"
      ],
      "metadata": {
        "id": "-gAyEJNy5wRe"
      }
    },
    {
      "cell_type": "code",
      "source": [
        "x=data.drop([\"PM2.5\"], axis=1)\n",
        "y=data[\"PM2.5\"]"
      ],
      "metadata": {
        "id": "RyWW4FAj7Q4Q"
      },
      "execution_count": 11,
      "outputs": []
    },
    {
      "cell_type": "code",
      "source": [
        "x.head()"
      ],
      "metadata": {
        "colab": {
          "base_uri": "https://localhost:8080/",
          "height": 206
        },
        "id": "UWV-ezwq7bMR",
        "outputId": "f36e930c-f7e6-4b62-a525-c98ef422a956"
      },
      "execution_count": 12,
      "outputs": [
        {
          "output_type": "execute_result",
          "data": {
            "text/plain": [
              "   PM10        SO2        NO2           CO         O3  TEMP    PRES  DEWP  \\\n",
              "0   9.0   3.000000  17.000000   300.000000  89.000000  -0.5  1024.5 -21.4   \n",
              "1   4.0   3.000000  16.000000   300.000000  88.000000  -0.7  1025.1 -22.1   \n",
              "2   7.0  18.531107  17.000000   300.000000  60.000000  -1.2  1025.3 -24.6   \n",
              "3   3.0   5.000000  18.000000  1330.069131  57.210637  -1.4  1026.2 -25.5   \n",
              "4   3.0   7.000000  53.699443   200.000000  84.000000  -1.9  1027.1 -24.5   \n",
              "\n",
              "   RAIN  WSPM  \n",
              "0   0.0   5.7  \n",
              "1   0.0   3.9  \n",
              "2   0.0   5.3  \n",
              "3   0.0   4.9  \n",
              "4   0.0   3.2  "
            ],
            "text/html": [
              "\n",
              "  <div id=\"df-6bfc8227-f75d-45c6-b465-a751589b6bfb\">\n",
              "    <div class=\"colab-df-container\">\n",
              "      <div>\n",
              "<style scoped>\n",
              "    .dataframe tbody tr th:only-of-type {\n",
              "        vertical-align: middle;\n",
              "    }\n",
              "\n",
              "    .dataframe tbody tr th {\n",
              "        vertical-align: top;\n",
              "    }\n",
              "\n",
              "    .dataframe thead th {\n",
              "        text-align: right;\n",
              "    }\n",
              "</style>\n",
              "<table border=\"1\" class=\"dataframe\">\n",
              "  <thead>\n",
              "    <tr style=\"text-align: right;\">\n",
              "      <th></th>\n",
              "      <th>PM10</th>\n",
              "      <th>SO2</th>\n",
              "      <th>NO2</th>\n",
              "      <th>CO</th>\n",
              "      <th>O3</th>\n",
              "      <th>TEMP</th>\n",
              "      <th>PRES</th>\n",
              "      <th>DEWP</th>\n",
              "      <th>RAIN</th>\n",
              "      <th>WSPM</th>\n",
              "    </tr>\n",
              "  </thead>\n",
              "  <tbody>\n",
              "    <tr>\n",
              "      <th>0</th>\n",
              "      <td>9.0</td>\n",
              "      <td>3.000000</td>\n",
              "      <td>17.000000</td>\n",
              "      <td>300.000000</td>\n",
              "      <td>89.000000</td>\n",
              "      <td>-0.5</td>\n",
              "      <td>1024.5</td>\n",
              "      <td>-21.4</td>\n",
              "      <td>0.0</td>\n",
              "      <td>5.7</td>\n",
              "    </tr>\n",
              "    <tr>\n",
              "      <th>1</th>\n",
              "      <td>4.0</td>\n",
              "      <td>3.000000</td>\n",
              "      <td>16.000000</td>\n",
              "      <td>300.000000</td>\n",
              "      <td>88.000000</td>\n",
              "      <td>-0.7</td>\n",
              "      <td>1025.1</td>\n",
              "      <td>-22.1</td>\n",
              "      <td>0.0</td>\n",
              "      <td>3.9</td>\n",
              "    </tr>\n",
              "    <tr>\n",
              "      <th>2</th>\n",
              "      <td>7.0</td>\n",
              "      <td>18.531107</td>\n",
              "      <td>17.000000</td>\n",
              "      <td>300.000000</td>\n",
              "      <td>60.000000</td>\n",
              "      <td>-1.2</td>\n",
              "      <td>1025.3</td>\n",
              "      <td>-24.6</td>\n",
              "      <td>0.0</td>\n",
              "      <td>5.3</td>\n",
              "    </tr>\n",
              "    <tr>\n",
              "      <th>3</th>\n",
              "      <td>3.0</td>\n",
              "      <td>5.000000</td>\n",
              "      <td>18.000000</td>\n",
              "      <td>1330.069131</td>\n",
              "      <td>57.210637</td>\n",
              "      <td>-1.4</td>\n",
              "      <td>1026.2</td>\n",
              "      <td>-25.5</td>\n",
              "      <td>0.0</td>\n",
              "      <td>4.9</td>\n",
              "    </tr>\n",
              "    <tr>\n",
              "      <th>4</th>\n",
              "      <td>3.0</td>\n",
              "      <td>7.000000</td>\n",
              "      <td>53.699443</td>\n",
              "      <td>200.000000</td>\n",
              "      <td>84.000000</td>\n",
              "      <td>-1.9</td>\n",
              "      <td>1027.1</td>\n",
              "      <td>-24.5</td>\n",
              "      <td>0.0</td>\n",
              "      <td>3.2</td>\n",
              "    </tr>\n",
              "  </tbody>\n",
              "</table>\n",
              "</div>\n",
              "      <button class=\"colab-df-convert\" onclick=\"convertToInteractive('df-6bfc8227-f75d-45c6-b465-a751589b6bfb')\"\n",
              "              title=\"Convert this dataframe to an interactive table.\"\n",
              "              style=\"display:none;\">\n",
              "        \n",
              "  <svg xmlns=\"http://www.w3.org/2000/svg\" height=\"24px\"viewBox=\"0 0 24 24\"\n",
              "       width=\"24px\">\n",
              "    <path d=\"M0 0h24v24H0V0z\" fill=\"none\"/>\n",
              "    <path d=\"M18.56 5.44l.94 2.06.94-2.06 2.06-.94-2.06-.94-.94-2.06-.94 2.06-2.06.94zm-11 1L8.5 8.5l.94-2.06 2.06-.94-2.06-.94L8.5 2.5l-.94 2.06-2.06.94zm10 10l.94 2.06.94-2.06 2.06-.94-2.06-.94-.94-2.06-.94 2.06-2.06.94z\"/><path d=\"M17.41 7.96l-1.37-1.37c-.4-.4-.92-.59-1.43-.59-.52 0-1.04.2-1.43.59L10.3 9.45l-7.72 7.72c-.78.78-.78 2.05 0 2.83L4 21.41c.39.39.9.59 1.41.59.51 0 1.02-.2 1.41-.59l7.78-7.78 2.81-2.81c.8-.78.8-2.07 0-2.86zM5.41 20L4 18.59l7.72-7.72 1.47 1.35L5.41 20z\"/>\n",
              "  </svg>\n",
              "      </button>\n",
              "      \n",
              "  <style>\n",
              "    .colab-df-container {\n",
              "      display:flex;\n",
              "      flex-wrap:wrap;\n",
              "      gap: 12px;\n",
              "    }\n",
              "\n",
              "    .colab-df-convert {\n",
              "      background-color: #E8F0FE;\n",
              "      border: none;\n",
              "      border-radius: 50%;\n",
              "      cursor: pointer;\n",
              "      display: none;\n",
              "      fill: #1967D2;\n",
              "      height: 32px;\n",
              "      padding: 0 0 0 0;\n",
              "      width: 32px;\n",
              "    }\n",
              "\n",
              "    .colab-df-convert:hover {\n",
              "      background-color: #E2EBFA;\n",
              "      box-shadow: 0px 1px 2px rgba(60, 64, 67, 0.3), 0px 1px 3px 1px rgba(60, 64, 67, 0.15);\n",
              "      fill: #174EA6;\n",
              "    }\n",
              "\n",
              "    [theme=dark] .colab-df-convert {\n",
              "      background-color: #3B4455;\n",
              "      fill: #D2E3FC;\n",
              "    }\n",
              "\n",
              "    [theme=dark] .colab-df-convert:hover {\n",
              "      background-color: #434B5C;\n",
              "      box-shadow: 0px 1px 3px 1px rgba(0, 0, 0, 0.15);\n",
              "      filter: drop-shadow(0px 1px 2px rgba(0, 0, 0, 0.3));\n",
              "      fill: #FFFFFF;\n",
              "    }\n",
              "  </style>\n",
              "\n",
              "      <script>\n",
              "        const buttonEl =\n",
              "          document.querySelector('#df-6bfc8227-f75d-45c6-b465-a751589b6bfb button.colab-df-convert');\n",
              "        buttonEl.style.display =\n",
              "          google.colab.kernel.accessAllowed ? 'block' : 'none';\n",
              "\n",
              "        async function convertToInteractive(key) {\n",
              "          const element = document.querySelector('#df-6bfc8227-f75d-45c6-b465-a751589b6bfb');\n",
              "          const dataTable =\n",
              "            await google.colab.kernel.invokeFunction('convertToInteractive',\n",
              "                                                     [key], {});\n",
              "          if (!dataTable) return;\n",
              "\n",
              "          const docLinkHtml = 'Like what you see? Visit the ' +\n",
              "            '<a target=\"_blank\" href=https://colab.research.google.com/notebooks/data_table.ipynb>data table notebook</a>'\n",
              "            + ' to learn more about interactive tables.';\n",
              "          element.innerHTML = '';\n",
              "          dataTable['output_type'] = 'display_data';\n",
              "          await google.colab.output.renderOutput(dataTable, element);\n",
              "          const docLink = document.createElement('div');\n",
              "          docLink.innerHTML = docLinkHtml;\n",
              "          element.appendChild(docLink);\n",
              "        }\n",
              "      </script>\n",
              "    </div>\n",
              "  </div>\n",
              "  "
            ]
          },
          "metadata": {},
          "execution_count": 12
        }
      ]
    },
    {
      "cell_type": "code",
      "source": [
        "x.info()"
      ],
      "metadata": {
        "colab": {
          "base_uri": "https://localhost:8080/"
        },
        "id": "svembmHw79o1",
        "outputId": "bd007421-90fc-443d-e3ae-cb36a7e06289"
      },
      "execution_count": 13,
      "outputs": [
        {
          "output_type": "stream",
          "name": "stdout",
          "text": [
            "<class 'pandas.core.frame.DataFrame'>\n",
            "RangeIndex: 35064 entries, 0 to 35063\n",
            "Data columns (total 10 columns):\n",
            " #   Column  Non-Null Count  Dtype  \n",
            "---  ------  --------------  -----  \n",
            " 0   PM10    35064 non-null  float64\n",
            " 1   SO2     35064 non-null  float64\n",
            " 2   NO2     35064 non-null  float64\n",
            " 3   CO      35064 non-null  float64\n",
            " 4   O3      35064 non-null  float64\n",
            " 5   TEMP    35064 non-null  float64\n",
            " 6   PRES    35064 non-null  float64\n",
            " 7   DEWP    35064 non-null  float64\n",
            " 8   RAIN    35064 non-null  float64\n",
            " 9   WSPM    35064 non-null  float64\n",
            "dtypes: float64(10)\n",
            "memory usage: 2.7 MB\n"
          ]
        }
      ]
    },
    {
      "cell_type": "markdown",
      "source": [
        "Stratify"
      ],
      "metadata": {
        "id": "QHOEm2Sn7Xpx"
      }
    },
    {
      "cell_type": "code",
      "source": [
        "from sklearn.model_selection import train_test_split\n",
        "xTrain, xTest, yTrain, yTest = train_test_split(x,y,test_size=0.2, random_state=0)"
      ],
      "metadata": {
        "id": "hw0QAPvP7Y6G"
      },
      "execution_count": 14,
      "outputs": []
    },
    {
      "cell_type": "markdown",
      "source": [
        "Regressions"
      ],
      "metadata": {
        "id": "CbXfjcRe8MMv"
      }
    },
    {
      "cell_type": "code",
      "source": [
        "from sklearn.metrics import mean_squared_error"
      ],
      "metadata": {
        "id": "jC0riXHW_Eq-"
      },
      "execution_count": 15,
      "outputs": []
    },
    {
      "cell_type": "code",
      "source": [
        "from sklearn.linear_model import LinearRegression\n",
        "linearRegressorModel = LinearRegression()\n",
        "linearRegressorModel.fit(xTrain, yTrain)\n",
        "linearPred = linearRegressorModel.predict(xTest)"
      ],
      "metadata": {
        "id": "AYD7tsjL8IEJ"
      },
      "execution_count": 16,
      "outputs": []
    },
    {
      "cell_type": "code",
      "source": [
        "from sklearn.linear_model import Ridge\n",
        "ridgeModel = Ridge()\n",
        "ridgeModel.fit(xTrain, yTrain)\n",
        "ridgePred = ridgeModel.predict(xTest)"
      ],
      "metadata": {
        "id": "0_vh6D4q8W9w"
      },
      "execution_count": 17,
      "outputs": []
    },
    {
      "cell_type": "code",
      "source": [
        "from sklearn.linear_model import Lasso\n",
        "lassoModel = Lasso()\n",
        "lassoModel.fit(xTrain, yTrain)\n",
        "lassoPred = lassoModel.predict(xTest)"
      ],
      "metadata": {
        "id": "1Wnfn9-j8YOu"
      },
      "execution_count": 18,
      "outputs": []
    },
    {
      "cell_type": "code",
      "source": [
        "from sklearn.linear_model import ElasticNet\n",
        "elasticNetModel = ElasticNet()\n",
        "elasticNetModel.fit(xTrain, yTrain)\n",
        "elasticPred = elasticNetModel.predict(xTest)"
      ],
      "metadata": {
        "id": "W7fmNBOa8auJ"
      },
      "execution_count": 19,
      "outputs": []
    },
    {
      "cell_type": "code",
      "source": [
        "from sklearn.linear_model import SGDRegressor\n",
        "from sklearn.pipeline import make_pipeline\n",
        "from sklearn.preprocessing import StandardScaler\n",
        "\n",
        "sgdModel = make_pipeline(StandardScaler(), SGDRegressor(max_iter=1000, tol=1e-3, eta0=0.01))\n",
        "sgdModel.fit(xTrain, yTrain)\n",
        "sgdPred = sgdModel.predict(xTest)"
      ],
      "metadata": {
        "id": "lXKIkdZ8CPCq"
      },
      "execution_count": 20,
      "outputs": []
    },
    {
      "cell_type": "markdown",
      "source": [
        "Table"
      ],
      "metadata": {
        "id": "juHyZmGM8j12"
      }
    },
    {
      "cell_type": "code",
      "source": [
        "from prettytable import PrettyTable\n",
        "myTable = PrettyTable([\"Model\", \"Training_score\", \"Test_score\", \"RMSE\"])"
      ],
      "metadata": {
        "id": "amqoWRV28jWk"
      },
      "execution_count": 21,
      "outputs": []
    },
    {
      "cell_type": "code",
      "source": [
        "myTable.add_row([\"Linear Regression\", \n",
        "                 linearRegressorModel.score(xTrain, yTrain), \n",
        "                 linearRegressorModel.score(xTest, yTest),\n",
        "                 mean_squared_error(yTest, linearPred, squared=False)])\n",
        "myTable.add_row([\"Ridge\", \n",
        "                 ridgeModel.score(xTrain, yTrain), \n",
        "                 ridgeModel.score(xTest, yTest),\n",
        "                 mean_squared_error(yTest, ridgePred, squared=False)])\n",
        "myTable.add_row([\"Lasso\", \n",
        "                 lassoModel.score(xTrain, yTrain), \n",
        "                 lassoModel.score(xTest, yTest),\n",
        "                 mean_squared_error(yTest, lassoPred, squared=False)])\n",
        "myTable.add_row([\"ElasticNet\", \n",
        "                 elasticNetModel.score(xTrain, yTrain), \n",
        "                 elasticNetModel.score(xTest, yTest),\n",
        "                 mean_squared_error(yTest, elasticPred, squared=False)])\n",
        "myTable.add_row([\"Stochastic Gradient Descent\", \n",
        "                 sgdModel.score(xTrain, yTrain), \n",
        "                 sgdModel.score(xTest, yTest),\n",
        "                 mean_squared_error(yTest, sgdPred, squared=False)])"
      ],
      "metadata": {
        "id": "EOlypBEf8cY0"
      },
      "execution_count": 22,
      "outputs": []
    },
    {
      "cell_type": "code",
      "source": [
        "print(myTable)"
      ],
      "metadata": {
        "colab": {
          "base_uri": "https://localhost:8080/"
        },
        "id": "gZCY9xDC8nVc",
        "outputId": "54add3c5-78da-42c7-84d8-108e356dac2f"
      },
      "execution_count": 23,
      "outputs": [
        {
          "output_type": "stream",
          "name": "stdout",
          "text": [
            "+-----------------------------+--------------------+--------------------+-------------------+\n",
            "|            Model            |   Training_score   |     Test_score     |        RMSE       |\n",
            "+-----------------------------+--------------------+--------------------+-------------------+\n",
            "|      Linear Regression      | 0.8591987400920089 | 0.8350304410035662 | 34.93773110800067 |\n",
            "|            Ridge            | 0.8591987400918963 | 0.8350304348569527 | 34.93773175887447 |\n",
            "|            Lasso            | 0.8591111804130677 | 0.8346815816637665 | 34.97465281962357 |\n",
            "|          ElasticNet         | 0.8591390846784002 | 0.8347865539167023 | 34.96354712696564 |\n",
            "| Stochastic Gradient Descent | 0.8587958593276642 | 0.8353108581822586 | 34.90802469758101 |\n",
            "+-----------------------------+--------------------+--------------------+-------------------+\n"
          ]
        }
      ]
    },
    {
      "cell_type": "markdown",
      "source": [
        "Stochastic Gradient Descent is the best with the lowest error."
      ],
      "metadata": {
        "id": "xsN5HDvdcM-7"
      }
    }
  ]
}
